{
 "cells": [
  {
   "cell_type": "code",
   "execution_count": null,
   "metadata": {},
   "outputs": [],
   "source": [
    "result = [{\"date\":\"01/11/2024\", \"item\": \"Tea\", \"calories\": 2}, {\"date\":\"01/11/2024\", \"item\": \"Idli\", \"calories\": 70 (per idli)}, {\"date\":\"01/11/2024\", \"item\": \"Chicken Biryani\", \"calories\": 500}, {\"date\":\"01/11/2024\", \"item\": \"Crab\", \"calories\": 120}, {\"date\":\"01/11/2024\", \"item\": \"Chicken Lollipop\", \"calories\": 150 (per piece)}, {\"date\":\"01/11/2024\", \"item\": \"Payasam\", \"calories\": 200}, {\"date\":\"01/11/2024\", \"item\": \"Tea\", \"calories\": 2}, {\"date\":\"01/11/2024\", \"item\": \"Dosa\", \"calories\": 100 (per dosa)}]"
   ]
  },
  {
   "cell_type": "code",
   "execution_count": null,
   "metadata": {},
   "outputs": [],
   "source": [
    "food_data = json.loads(result)"
   ]
  }
 ],
 "metadata": {
  "kernelspec": {
   "display_name": "Python 3",
   "language": "python",
   "name": "python3"
  },
  "language_info": {
   "name": "python",
   "version": "3.12.0"
  }
 },
 "nbformat": 4,
 "nbformat_minor": 2
}
